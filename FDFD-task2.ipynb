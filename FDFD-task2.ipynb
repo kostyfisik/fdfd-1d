{
 "cells": [
  {
   "cell_type": "code",
   "execution_count": 1,
   "metadata": {
    "collapsed": true
   },
   "outputs": [],
   "source": [
    "import numpy as np\n",
    "import scipy as sp\n",
    "import scipy.sparse.linalg as linalg\n",
    "import matplotlib.pyplot as plt\n",
    "%matplotlib inline"
   ]
  },
  {
   "cell_type": "code",
   "execution_count": 3,
   "metadata": {
    "collapsed": false
   },
   "outputs": [
    {
     "data": {
      "text/plain": [
       "(-0.0, 0.3)"
      ]
     },
     "execution_count": 3,
     "metadata": {},
     "output_type": "execute_result"
    },
    {
     "data": {
      "image/png": "[encoded data removed]",
      "text/plain": [
       "<matplotlib.figure.Figure at 0x7f6465108c10>"
      ]
     },
     "metadata": {},
     "output_type": "display_data"
    }
   ],
   "source": [
    "n=101          # number of grid nodes\n",
    "\n",
    "dx=1.0/n         # discretization step, domain size = 1\n",
    "\n",
    "eps1 = 1      # Layer 1\n",
    "eps2 = 13.0       # Layer 2\n",
    "ratio = 0.5\n",
    "\n",
    "nmodes = 6   # Solver for first # eigenmodes\n",
    "\n",
    "epscol = np.ones(n) # vectro representation\n",
    "epscol[:int(n*ratio)] = 1.0/eps1\n",
    "epscol[int(n*ratio):] = 1.0/eps2\n",
    "\n",
    "epsinv = sp.sparse.dia_matrix(([epscol], [0]), [n,n]) #convert to diagonal matrix\n",
    "\n",
    "# Prepare forward and backward difference operators\n",
    "diag = np.ones(n) * -1.0/dx+0.j\n",
    "up_diag = np.ones(n) * 1.0/dx+0.j\n",
    "\n",
    "Fd = sp.sparse.dia_matrix(([up_diag, diag], [1, 0]), [n,n])\n",
    "Bd = sp.sparse.dia_matrix(([diag, up_diag], [-1, 0]), [n,n])\n",
    "\n",
    "# Convert to lil_matrix to allow per element access.\n",
    "F = sp.sparse.lil_matrix(Fd)\n",
    "B = sp.sparse.lil_matrix(Bd)\n",
    "\n",
    "kk0 = 2*sp.pi*np.linspace(-0.5,0.5,301)+0.0j\n",
    "\n",
    "k = np.zeros((nmodes, kk0.size), dtype=complex)\n",
    "for ik in range(kk0.size):\n",
    "    k0=kk0[ik]\n",
    "    bc = np.exp(1.j*k0*1)/dx # to impose periodic boundary conditions    \n",
    "    F[n-1, 0] = bc     \n",
    "    B[0, n-1] = -np.conj(bc)\n",
    "    q = -epsinv*B*F; # to assemble eigenmatrix\n",
    "    # eigs can be provided a guess solution as a starting point,\n",
    "    # use k=w/c by mean value of epsilon\n",
    "    kt = k0/np.sqrt((eps1*ratio+eps2*(1-ratio))); \n",
    "    k2, V = linalg.eigs(q, k=nmodes, M=None, sigma=kt**2)\n",
    "    \n",
    "    k[:,ik] = np.sqrt(k2) # k=w/c\n",
    "\n",
    "for i in range(nmodes):\n",
    "    plt.hold(True)\n",
    "    plt.plot(kk0/(2*sp.pi), np.real(k[i,:]/(2*sp.pi)) ,'-')\n",
    "    \n",
    "plt.xlabel(\"k vector\")\n",
    "plt.ylabel(\"frequency\")\n",
    "plt.xlim([-0.5, 0.5])\n",
    "plt.ylim([-.0, 0.3])\n"
   ]
  }
 ],
 "metadata": {
  "kernelspec": {
   "display_name": "Python 2",
   "language": "python",
   "name": "python2"
  },
  "language_info": {
   "codemirror_mode": {
    "name": "ipython",
    "version": 2
   },
   "file_extension": ".py",
   "mimetype": "text/x-python",
   "name": "python",
   "nbconvert_exporter": "python",
   "pygments_lexer": "ipython2",
   "version": "2.7.12"
  }
 },
 "nbformat": 4,
 "nbformat_minor": 0
}
